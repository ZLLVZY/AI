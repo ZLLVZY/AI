{
 "cells": [
  {
   "cell_type": "code",
   "execution_count": 1,
   "metadata": {},
   "outputs": [],
   "source": [
    "import tensorflow as tf\n",
    "import numpy as np"
   ]
  },
  {
   "cell_type": "code",
   "execution_count": 7,
   "metadata": {},
   "outputs": [
    {
     "name": "stdout",
     "output_type": "stream",
     "text": [
      "0 [-0.16656536, 0.7600604, 0.18875523]\n",
      "20 [-0.13581927, 0.3281274, 0.005543716]\n",
      "40 [-0.026173055, 0.26855332, 0.0015869938]\n",
      "60 [0.03249222, 0.23667884, 0.00045430716]\n",
      "80 [0.06388057, 0.21962468, 0.00013005402]\n",
      "100 [0.080674626, 0.2105, 3.7230395e-05]\n",
      "120 [0.08966014, 0.20561793, 1.0657902e-05]\n",
      "140 [0.094467744, 0.20300582, 3.0510294e-06]\n",
      "160 [0.097040005, 0.20160826, 8.7342414e-07]\n",
      "180 [0.098416284, 0.20086049, 2.500352e-07]\n",
      "200 [0.099152654, 0.20046039, 7.157629e-08]\n"
     ]
    }
   ],
   "source": [
    "#使用numpy生成100个随机点\n",
    "x_data=np.random.rand(100)\n",
    "y_data=x_data*0.1+0.2\n",
    "\n",
    "#构造一个线性模型\n",
    "b=tf.Variable(1.1)\n",
    "k=tf.Variable(0.)\n",
    "y=k*x_data+b\n",
    "\n",
    "#二次代价函数\n",
    "loss=tf.reduce_mean(tf.square(y_data-y))  #ave((y_data-y)^2)\n",
    "#定义一个梯度下降法来进行训练的优化器\n",
    "optimizer=tf.train.GradientDescentOptimizer(0.2)\n",
    "#最小化代价函数\n",
    "train=optimizer.minimize(loss)\n",
    "\n",
    "\n",
    "#初始化变量\n",
    "init=tf.global_variables_initializer()\n",
    "\n",
    "with tf.Session() as sess:\n",
    "    sess.run(init)\n",
    "    for step in range(201):\n",
    "        sess.run(train)\n",
    "        if step%20==0:\n",
    "            print(step,sess.run([k,b,loss]))"
   ]
  }
 ],
 "metadata": {
  "kernelspec": {
   "display_name": "Python 3",
   "language": "python",
   "name": "python3"
  },
  "language_info": {
   "codemirror_mode": {
    "name": "ipython",
    "version": 3
   },
   "file_extension": ".py",
   "mimetype": "text/x-python",
   "name": "python",
   "nbconvert_exporter": "python",
   "pygments_lexer": "ipython3",
   "version": "3.6.5"
  }
 },
 "nbformat": 4,
 "nbformat_minor": 2
}
