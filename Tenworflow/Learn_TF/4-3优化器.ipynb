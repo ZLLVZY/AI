{
 "cells": [
  {
   "cell_type": "code",
   "execution_count": 1,
   "metadata": {},
   "outputs": [],
   "source": [
    "import tensorflow as tf\n",
    "from tensorflow.examples.tutorials.mnist import input_data"
   ]
  },
  {
   "cell_type": "code",
   "execution_count": 5,
   "metadata": {},
   "outputs": [
    {
     "name": "stdout",
     "output_type": "stream",
     "text": [
      "Extracting MNIST_data/train-images-idx3-ubyte.gz\n",
      "Extracting MNIST_data/train-labels-idx1-ubyte.gz\n",
      "Extracting MNIST_data/t10k-images-idx3-ubyte.gz\n",
      "Extracting MNIST_data/t10k-labels-idx1-ubyte.gz\n",
      "WARNING:tensorflow:From <ipython-input-5-f257d2d724ab>:38: softmax_cross_entropy_with_logits (from tensorflow.python.ops.nn_ops) is deprecated and will be removed in a future version.\n",
      "Instructions for updating:\n",
      "\n",
      "Future major versions of TensorFlow will allow gradients to flow\n",
      "into the labels input on backprop by default.\n",
      "\n",
      "See @{tf.nn.softmax_cross_entropy_with_logits_v2}.\n",
      "\n",
      "Iter0 : Testing Accuracy:0.7541\n",
      "Iter1 : Testing Accuracy:0.8016\n",
      "Iter2 : Testing Accuracy:0.8554\n",
      "Iter3 : Testing Accuracy:0.8716\n",
      "Iter4 : Testing Accuracy:0.8824\n",
      "Iter5 : Testing Accuracy:0.889\n",
      "Iter6 : Testing Accuracy:0.8932\n",
      "Iter7 : Testing Accuracy:0.8983\n",
      "Iter8 : Testing Accuracy:0.9009\n",
      "Iter9 : Testing Accuracy:0.9035\n",
      "Iter10 : Testing Accuracy:0.905\n",
      "Iter11 : Testing Accuracy:0.9067\n",
      "Iter12 : Testing Accuracy:0.9084\n",
      "Iter13 : Testing Accuracy:0.9095\n",
      "Iter14 : Testing Accuracy:0.9111\n",
      "Iter15 : Testing Accuracy:0.9109\n",
      "Iter16 : Testing Accuracy:0.9119\n",
      "Iter17 : Testing Accuracy:0.9131\n",
      "Iter18 : Testing Accuracy:0.9143\n",
      "Iter19 : Testing Accuracy:0.9156\n",
      "Iter20 : Testing Accuracy:0.9159\n"
     ]
    }
   ],
   "source": [
    "#载入数据集\n",
    "mnist=input_data.read_data_sets('MNIST_data',one_hot=True)\n",
    "\n",
    "#每个批次的大小\n",
    "batch_size=100\n",
    "#计算一共由多少个批次\n",
    "n_batch=mnist.train.num_examples//batch_size\n",
    "\n",
    "#定义placeholder\n",
    "x=tf.placeholder(tf.float32,[None,784])\n",
    "y=tf.placeholder(tf.float32,[None,10])\n",
    "\n",
    "\n",
    "#创建一个简单的神经网络\n",
    "Weights=tf.Variable(tf.zeros([784,10]))\n",
    "biases=tf.Variable(tf.zeros([1,10]))\n",
    "prediction=tf.nn.softmax(tf.matmul(x,Weights)+biases)\n",
    "\n",
    "'''\n",
    "#创建隐藏层\n",
    "Weights_L1=tf.Variable(tf.zeros([784,100]))\n",
    "biases_L1=tf.Variable(tf.zeros([1,100]))\n",
    "L1=tf.nn.softmax(tf.matmul(x,Weights_L1)+biases_L1)\n",
    "\n",
    "Weights_L2=tf.Variable(tf.zeros([100,100]))\n",
    "biases_L2=tf.Variable(tf.zeros([1,100]))\n",
    "L2=tf.nn.softmax(tf.matmul(L1,Weights_L2)+biases_L2)\n",
    "\n",
    "#创建输出层\n",
    "Weights_L3=tf.Variable(tf.zeros([100,10]))\n",
    "biases_L3=tf.Variable(tf.zeros([1,10]))\n",
    "prediction=tf.nn.softmax(tf.matmul(L2,Weights_L3)+biases_L3)\n",
    "'''\n",
    "\n",
    "#二次代价函数\n",
    "# loss=tf.reduce_mean(tf.square(y-prediction))\n",
    "# loss=tf.reduce_mean(-tf.reduce_sum(y*tf.log(prediction),reduction_indices=[1]))\n",
    "loss=tf.reduce_mean(tf.nn.softmax_cross_entropy_with_logits(labels=y,logits=prediction)) #交叉熵\n",
    "# train_step=tf.train.GradientDescentOptimizer(0.1).minimize(loss)\n",
    "train_step=tf.train.AdamOptimizer(1e-4).minimize(loss)            #不同的优化器\n",
    "\n",
    "#初始化变量\n",
    "init=tf.global_variables_initializer()\n",
    "\n",
    "#求准确率,结果存放在布尔型列表中\n",
    "corrent_prediction=tf.equal(tf.arg_max(y,1),tf.arg_max(prediction,1))#arg_max返回最大值的位置\n",
    "accuracy=tf.reduce_mean(tf.cast(corrent_prediction,tf.float32))\n",
    "\n",
    "with tf.Session() as sess:\n",
    "    sess.run(init)\n",
    "    for epoch in range(21):\n",
    "        for batch in range(n_batch):\n",
    "            batch_xs,batch_ys=mnist.train.next_batch(batch_size)\n",
    "            sess.run(train_step,feed_dict={x:batch_xs,y:batch_ys})\n",
    "        acc=sess.run(accuracy,feed_dict={x:mnist.test.images,y:mnist.test.labels})\n",
    "        print('Iter'+str(epoch) +' : Testing Accuracy:'+str(acc))"
   ]
  }
 ],
 "metadata": {
  "kernelspec": {
   "display_name": "Python 3",
   "language": "python",
   "name": "python3"
  },
  "language_info": {
   "codemirror_mode": {
    "name": "ipython",
    "version": 3
   },
   "file_extension": ".py",
   "mimetype": "text/x-python",
   "name": "python",
   "nbconvert_exporter": "python",
   "pygments_lexer": "ipython3",
   "version": "3.6.5"
  }
 },
 "nbformat": 4,
 "nbformat_minor": 2
}
