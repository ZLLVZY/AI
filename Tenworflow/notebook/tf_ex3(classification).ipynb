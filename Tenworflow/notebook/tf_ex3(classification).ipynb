{
 "cells": [
  {
   "cell_type": "code",
   "execution_count": 5,
   "metadata": {},
   "outputs": [],
   "source": [
    "import tensorflow as tf\n",
    "from tensorflow.examples.tutorials.mnist import input_data"
   ]
  },
  {
   "cell_type": "code",
   "execution_count": 10,
   "metadata": {},
   "outputs": [
    {
     "name": "stdout",
     "output_type": "stream",
     "text": [
      "Extracting MNIST_data/train-images-idx3-ubyte.gz\n",
      "Extracting MNIST_data/train-labels-idx1-ubyte.gz\n",
      "Extracting MNIST_data/t10k-images-idx3-ubyte.gz\n",
      "Extracting MNIST_data/t10k-labels-idx1-ubyte.gz\n",
      "0.0626\n",
      "0.6364\n",
      "0.7502\n",
      "0.7825\n",
      "0.8076\n",
      "0.8195\n",
      "0.8318\n",
      "0.8395\n",
      "0.8425\n",
      "0.8512\n",
      "0.8542\n",
      "0.8598\n",
      "0.8601\n",
      "0.8672\n",
      "0.8684\n",
      "0.8721\n",
      "0.8697\n",
      "0.8746\n",
      "0.8736\n",
      "0.877\n",
      "0.8795\n",
      "0.8814\n",
      "0.8825\n",
      "0.8797\n",
      "0.8833\n",
      "0.8844\n",
      "0.8861\n",
      "0.8844\n",
      "0.888\n",
      "0.888\n",
      "0.8884\n",
      "0.8878\n",
      "0.8862\n",
      "0.8921\n",
      "0.8907\n",
      "0.8918\n",
      "0.8935\n",
      "0.8905\n",
      "0.8941\n",
      "0.8939\n"
     ]
    }
   ],
   "source": [
    "mnist = input_data.read_data_sets('MNIST_data',one_hot=True)\n",
    "\n",
    "def add_layer(inputs,in_size,out_size,activation_function=None):\n",
    "    #add one more layer and return the output of this layer\n",
    "    Weights = tf.Variable(tf.random_normal([in_size,out_size]))\n",
    "    biases=tf.Variable(tf.zeros([1,out_size])+0.1)\n",
    "    Wx_plus_b=tf.matmul(inputs,Weights)+biases\n",
    "    \n",
    "    if activation_function is None:\n",
    "        outputs=Wx_plus_b\n",
    "    else:\n",
    "        outputs=activation_function(Wx_plus_b)\n",
    "    return outputs\n",
    "\n",
    "def compute_accuracy(v_xs,v_ys):\n",
    "    global prediction\n",
    "    y_pre=sess.run(prediction,feed_dict={xs:v_xs})\n",
    "    correct_predicion=tf.equal(tf.argmax(y_pre,1),tf.argmax(v_ys,1))\n",
    "    accuracy=tf.reduce_mean(tf.cast(correct_predicion,tf.float32))\n",
    "    result=sess.run(accuracy,feed_dict={xs:v_xs,ys:v_ys})\n",
    "    return result\n",
    "\n",
    "#define placeholder for inputs to network\n",
    "xs=tf.placeholder(tf.float32,[None,784]) #28*28\n",
    "ys=tf.placeholder(tf.float32,[None,10])  #0-9\n",
    "\n",
    "#add output layer\n",
    "prediction=add_layer(xs,784,10,tf.nn.softmax)\n",
    "\n",
    "#the error between prediction and real data\n",
    "cross_entropy=tf.reduce_mean(-tf.reduce_sum(ys*tf.log(prediction),reduction_indices=[1]))\n",
    "train_step=tf.train.GradientDescentOptimizer(0.5).minimize(cross_entropy)\n",
    "\n",
    "with tf.Session() as sess:\n",
    "#important step\n",
    "    sess.run(tf.global_variables_initializer())\n",
    "    for step in range(1000):\n",
    "        batch_xs,batch_ys=mnist.train.next_batch(100)\n",
    "        sess.run(train_step,feed_dict={xs:batch_xs,ys:batch_ys})\n",
    "        \n",
    "        if step%50==0:\n",
    "                  print(compute_accuracy(mnist.test.images,mnist.test.labels))"
   ]
  },
  {
   "cell_type": "code",
   "execution_count": null,
   "metadata": {},
   "outputs": [],
   "source": []
  }
 ],
 "metadata": {
  "kernelspec": {
   "display_name": "Python 3",
   "language": "python",
   "name": "python3"
  },
  "language_info": {
   "codemirror_mode": {
    "name": "ipython",
    "version": 3
   },
   "file_extension": ".py",
   "mimetype": "text/x-python",
   "name": "python",
   "nbconvert_exporter": "python",
   "pygments_lexer": "ipython3",
   "version": "3.6.4"
  }
 },
 "nbformat": 4,
 "nbformat_minor": 2
}
