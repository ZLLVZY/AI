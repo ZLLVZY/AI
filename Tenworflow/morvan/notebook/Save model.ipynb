{
 "cells": [
  {
   "cell_type": "code",
   "execution_count": 60,
   "metadata": {},
   "outputs": [],
   "source": [
    "import tensorflow as tf\n",
    "import numpy as np"
   ]
  },
  {
   "cell_type": "code",
   "execution_count": 61,
   "metadata": {},
   "outputs": [
    {
     "name": "stdout",
     "output_type": "stream",
     "text": [
      "Save to path: my_net/save_net.ckpt\n"
     ]
    }
   ],
   "source": [
    "##Save to file\n",
    "#remember to define the same dtype and shape when restore\n",
    "W=tf.Variable([[1,2,3],[3,4,5]],dtype=tf.float32,name='weights')\n",
    "b=tf.Variable([[1,2,3]],dtype=tf.float32,name='biases')\n",
    "\n",
    "init=tf.global_variables_initializer()\n",
    "\n",
    "saver=tf.train.Saver()\n",
    "\n",
    "with tf.Session() as sess:\n",
    "    sess.run(init)\n",
    "    save_path=saver.save(sess,\"my_net/save_net.ckpt\")\n",
    "    print(\"Save to path:\",save_path)"
   ]
  },
  {
   "cell_type": "code",
   "execution_count": 63,
   "metadata": {},
   "outputs": [
    {
     "name": "stdout",
     "output_type": "stream",
     "text": [
      "<bound method Variable.value of <tf.Variable 'weights:0' shape=(2, 3) dtype=float32_ref>>\n",
      "<bound method Variable.value of <tf.Variable 'biases:0' shape=(1, 3) dtype=float32_ref>>\n",
      "INFO:tensorflow:Restoring parameters from my_net/save_net.ckpt\n",
      "weights: [[0. 1. 2.]\n",
      " [3. 4. 5.]]\n",
      "biases: [[0. 1. 2.]]\n"
     ]
    }
   ],
   "source": [
    "#restore variables\n",
    "#redefine the same shape and same type for your variables\n",
    "tf.reset_default_graph()# important step\n",
    "W=tf.Variable(np.arange(6).reshape((2,3)),dtype=tf.float32,name='weights')\n",
    "b=tf.Variable(np.arange(3).reshape((1,3)),dtype=tf.float32,name='biases')\n",
    "print(W.value)\n",
    "print(b.value)\n",
    "#not need init step\n",
    "saver=tf.train.Saver()\n",
    "with tf.Session() as sess:\n",
    "    saver.restore(sess,\"my_net/save_net.ckpt\")\n",
    "    print('weights:',sess.run(W))\n",
    "    print('biases:',sess.run(b))\n"
   ]
  },
  {
   "cell_type": "code",
   "execution_count": null,
   "metadata": {},
   "outputs": [],
   "source": []
  }
 ],
 "metadata": {
  "kernelspec": {
   "display_name": "Python 3",
   "language": "python",
   "name": "python3"
  },
  "language_info": {
   "codemirror_mode": {
    "name": "ipython",
    "version": 3
   },
   "file_extension": ".py",
   "mimetype": "text/x-python",
   "name": "python",
   "nbconvert_exporter": "python",
   "pygments_lexer": "ipython3",
   "version": "3.6.5"
  }
 },
 "nbformat": 4,
 "nbformat_minor": 2
}
