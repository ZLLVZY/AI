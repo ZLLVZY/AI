{
 "cells": [
  {
   "cell_type": "markdown",
   "metadata": {},
   "source": [
    "### pandas介绍：\n",
    "  * numpy序列化的矩阵，类似列表\n",
    "  * pandas类似字典"
   ]
  },
  {
   "cell_type": "code",
   "execution_count": 1,
   "metadata": {},
   "outputs": [],
   "source": [
    "import pandas as pd\n",
    "import numpy as np"
   ]
  },
  {
   "cell_type": "code",
   "execution_count": 4,
   "metadata": {},
   "outputs": [
    {
     "data": {
      "text/plain": [
       "0     1.0\n",
       "1     2.0\n",
       "2     6.0\n",
       "3     NaN\n",
       "4    44.0\n",
       "5     1.0\n",
       "dtype: float64"
      ]
     },
     "execution_count": 4,
     "metadata": {},
     "output_type": "execute_result"
    }
   ],
   "source": [
    "s =pd.Series([1,2,6,np.nan,44,1])\n",
    "s"
   ]
  },
  {
   "cell_type": "code",
   "execution_count": 6,
   "metadata": {},
   "outputs": [
    {
     "data": {
      "text/plain": [
       "DatetimeIndex(['2018-03-03', '2018-03-04', '2018-03-05', '2018-03-06',\n",
       "               '2018-03-07', '2018-03-08'],\n",
       "              dtype='datetime64[ns]', freq='D')"
      ]
     },
     "execution_count": 6,
     "metadata": {},
     "output_type": "execute_result"
    }
   ],
   "source": [
    "dates = pd.date_range('20180303',periods=6)\n",
    "dates"
   ]
  },
  {
   "cell_type": "code",
   "execution_count": 7,
   "metadata": {},
   "outputs": [
    {
     "data": {
      "text/html": [
       "<div>\n",
       "<style scoped>\n",
       "    .dataframe tbody tr th:only-of-type {\n",
       "        vertical-align: middle;\n",
       "    }\n",
       "\n",
       "    .dataframe tbody tr th {\n",
       "        vertical-align: top;\n",
       "    }\n",
       "\n",
       "    .dataframe thead th {\n",
       "        text-align: right;\n",
       "    }\n",
       "</style>\n",
       "<table border=\"1\" class=\"dataframe\">\n",
       "  <thead>\n",
       "    <tr style=\"text-align: right;\">\n",
       "      <th></th>\n",
       "      <th>a</th>\n",
       "      <th>b</th>\n",
       "      <th>c</th>\n",
       "      <th>d</th>\n",
       "    </tr>\n",
       "  </thead>\n",
       "  <tbody>\n",
       "    <tr>\n",
       "      <th>2018-03-03</th>\n",
       "      <td>1.761004</td>\n",
       "      <td>1.648836</td>\n",
       "      <td>-0.656910</td>\n",
       "      <td>0.535489</td>\n",
       "    </tr>\n",
       "    <tr>\n",
       "      <th>2018-03-04</th>\n",
       "      <td>-0.363756</td>\n",
       "      <td>1.480507</td>\n",
       "      <td>0.354068</td>\n",
       "      <td>-1.358791</td>\n",
       "    </tr>\n",
       "    <tr>\n",
       "      <th>2018-03-05</th>\n",
       "      <td>-0.349576</td>\n",
       "      <td>0.088785</td>\n",
       "      <td>1.165699</td>\n",
       "      <td>1.152263</td>\n",
       "    </tr>\n",
       "    <tr>\n",
       "      <th>2018-03-06</th>\n",
       "      <td>-1.153368</td>\n",
       "      <td>0.309072</td>\n",
       "      <td>0.836402</td>\n",
       "      <td>0.478812</td>\n",
       "    </tr>\n",
       "    <tr>\n",
       "      <th>2018-03-07</th>\n",
       "      <td>0.952556</td>\n",
       "      <td>-1.973463</td>\n",
       "      <td>1.178855</td>\n",
       "      <td>-0.152371</td>\n",
       "    </tr>\n",
       "    <tr>\n",
       "      <th>2018-03-08</th>\n",
       "      <td>0.120752</td>\n",
       "      <td>1.646287</td>\n",
       "      <td>-0.434218</td>\n",
       "      <td>0.761825</td>\n",
       "    </tr>\n",
       "  </tbody>\n",
       "</table>\n",
       "</div>"
      ],
      "text/plain": [
       "                   a         b         c         d\n",
       "2018-03-03  1.761004  1.648836 -0.656910  0.535489\n",
       "2018-03-04 -0.363756  1.480507  0.354068 -1.358791\n",
       "2018-03-05 -0.349576  0.088785  1.165699  1.152263\n",
       "2018-03-06 -1.153368  0.309072  0.836402  0.478812\n",
       "2018-03-07  0.952556 -1.973463  1.178855 -0.152371\n",
       "2018-03-08  0.120752  1.646287 -0.434218  0.761825"
      ]
     },
     "execution_count": 7,
     "metadata": {},
     "output_type": "execute_result"
    }
   ],
   "source": [
    "df=pd.DataFrame(np.random.randn(6,4),index=dates,columns=['a','b','c','d'])\n",
    "df"
   ]
  },
  {
   "cell_type": "code",
   "execution_count": 29,
   "metadata": {},
   "outputs": [
    {
     "data": {
      "text/html": [
       "<div>\n",
       "<style scoped>\n",
       "    .dataframe tbody tr th:only-of-type {\n",
       "        vertical-align: middle;\n",
       "    }\n",
       "\n",
       "    .dataframe tbody tr th {\n",
       "        vertical-align: top;\n",
       "    }\n",
       "\n",
       "    .dataframe thead th {\n",
       "        text-align: right;\n",
       "    }\n",
       "</style>\n",
       "<table border=\"1\" class=\"dataframe\">\n",
       "  <thead>\n",
       "    <tr style=\"text-align: right;\">\n",
       "      <th></th>\n",
       "      <th>0</th>\n",
       "      <th>1</th>\n",
       "      <th>2</th>\n",
       "      <th>3</th>\n",
       "    </tr>\n",
       "  </thead>\n",
       "  <tbody>\n",
       "    <tr>\n",
       "      <th>0</th>\n",
       "      <td>0</td>\n",
       "      <td>1</td>\n",
       "      <td>2</td>\n",
       "      <td>3</td>\n",
       "    </tr>\n",
       "    <tr>\n",
       "      <th>1</th>\n",
       "      <td>4</td>\n",
       "      <td>5</td>\n",
       "      <td>6</td>\n",
       "      <td>7</td>\n",
       "    </tr>\n",
       "    <tr>\n",
       "      <th>2</th>\n",
       "      <td>8</td>\n",
       "      <td>9</td>\n",
       "      <td>10</td>\n",
       "      <td>11</td>\n",
       "    </tr>\n",
       "  </tbody>\n",
       "</table>\n",
       "</div>"
      ],
      "text/plain": [
       "   0  1   2   3\n",
       "0  0  1   2   3\n",
       "1  4  5   6   7\n",
       "2  8  9  10  11"
      ]
     },
     "execution_count": 29,
     "metadata": {},
     "output_type": "execute_result"
    }
   ],
   "source": [
    "df1=pd.DataFrame(np.arange(12).reshape((3,4)))\n",
    "df1"
   ]
  },
  {
   "cell_type": "code",
   "execution_count": 4,
   "metadata": {},
   "outputs": [
    {
     "data": {
      "text/html": [
       "<div>\n",
       "<style scoped>\n",
       "    .dataframe tbody tr th:only-of-type {\n",
       "        vertical-align: middle;\n",
       "    }\n",
       "\n",
       "    .dataframe tbody tr th {\n",
       "        vertical-align: top;\n",
       "    }\n",
       "\n",
       "    .dataframe thead th {\n",
       "        text-align: right;\n",
       "    }\n",
       "</style>\n",
       "<table border=\"1\" class=\"dataframe\">\n",
       "  <thead>\n",
       "    <tr style=\"text-align: right;\">\n",
       "      <th></th>\n",
       "      <th>A</th>\n",
       "      <th>B</th>\n",
       "      <th>C</th>\n",
       "      <th>D</th>\n",
       "      <th>E</th>\n",
       "      <th>F</th>\n",
       "    </tr>\n",
       "  </thead>\n",
       "  <tbody>\n",
       "    <tr>\n",
       "      <th>0</th>\n",
       "      <td>1.0</td>\n",
       "      <td>2018-03-03</td>\n",
       "      <td>1.0</td>\n",
       "      <td>3</td>\n",
       "      <td>test</td>\n",
       "      <td>foo</td>\n",
       "    </tr>\n",
       "    <tr>\n",
       "      <th>1</th>\n",
       "      <td>1.0</td>\n",
       "      <td>2018-03-03</td>\n",
       "      <td>1.0</td>\n",
       "      <td>3</td>\n",
       "      <td>train</td>\n",
       "      <td>foo</td>\n",
       "    </tr>\n",
       "    <tr>\n",
       "      <th>2</th>\n",
       "      <td>1.0</td>\n",
       "      <td>2018-03-03</td>\n",
       "      <td>1.0</td>\n",
       "      <td>3</td>\n",
       "      <td>test</td>\n",
       "      <td>foo</td>\n",
       "    </tr>\n",
       "    <tr>\n",
       "      <th>3</th>\n",
       "      <td>1.0</td>\n",
       "      <td>2018-03-03</td>\n",
       "      <td>1.0</td>\n",
       "      <td>3</td>\n",
       "      <td>train</td>\n",
       "      <td>foo</td>\n",
       "    </tr>\n",
       "  </tbody>\n",
       "</table>\n",
       "</div>"
      ],
      "text/plain": [
       "     A          B    C  D      E    F\n",
       "0  1.0 2018-03-03  1.0  3   test  foo\n",
       "1  1.0 2018-03-03  1.0  3  train  foo\n",
       "2  1.0 2018-03-03  1.0  3   test  foo\n",
       "3  1.0 2018-03-03  1.0  3  train  foo"
      ]
     },
     "execution_count": 4,
     "metadata": {},
     "output_type": "execute_result"
    }
   ],
   "source": [
    "df2=pd.DataFrame({'A':1.,\n",
    "                  'B':pd.Timestamp('20180303'),\n",
    "                  'C':pd.Series(1,index=list(range(4)),dtype='float32'),\n",
    "                 'D':np.array([3]*4,dtype='int32'),\n",
    "                 'E':pd.Categorical([\"test\",\"train\",\"test\",\"train\"]),\n",
    "                 'F':'foo'})\n",
    "df2"
   ]
  },
  {
   "cell_type": "code",
   "execution_count": 5,
   "metadata": {},
   "outputs": [
    {
     "name": "stdout",
     "output_type": "stream",
     "text": [
      "A           float64\n",
      "B    datetime64[ns]\n",
      "C           float32\n",
      "D             int32\n",
      "E          category\n",
      "F            object\n",
      "dtype: object \n",
      "\n",
      "Int64Index([0, 1, 2, 3], dtype='int64') \n",
      "\n",
      "Index(['A', 'B', 'C', 'D', 'E', 'F'], dtype='object') \n",
      "\n",
      "[[1.0 Timestamp('2018-03-03 00:00:00') 1.0 3 'test' 'foo']\n",
      " [1.0 Timestamp('2018-03-03 00:00:00') 1.0 3 'train' 'foo']\n",
      " [1.0 Timestamp('2018-03-03 00:00:00') 1.0 3 'test' 'foo']\n",
      " [1.0 Timestamp('2018-03-03 00:00:00') 1.0 3 'train' 'foo']] \n",
      "\n",
      "         A    C    D\n",
      "count  4.0  4.0  4.0\n",
      "mean   1.0  1.0  3.0\n",
      "std    0.0  0.0  0.0\n",
      "min    1.0  1.0  3.0\n",
      "25%    1.0  1.0  3.0\n",
      "50%    1.0  1.0  3.0\n",
      "75%    1.0  1.0  3.0\n",
      "max    1.0  1.0  3.0 \n",
      "\n",
      "                     0                    1                    2  \\\n",
      "A                    1                    1                    1   \n",
      "B  2018-03-03 00:00:00  2018-03-03 00:00:00  2018-03-03 00:00:00   \n",
      "C                    1                    1                    1   \n",
      "D                    3                    3                    3   \n",
      "E                 test                train                 test   \n",
      "F                  foo                  foo                  foo   \n",
      "\n",
      "                     3  \n",
      "A                    1  \n",
      "B  2018-03-03 00:00:00  \n",
      "C                    1  \n",
      "D                    3  \n",
      "E                train  \n",
      "F                  foo   \n",
      "\n",
      "     F      E  D    C          B    A\n",
      "0  foo   test  3  1.0 2018-03-03  1.0\n",
      "1  foo  train  3  1.0 2018-03-03  1.0\n",
      "2  foo   test  3  1.0 2018-03-03  1.0\n",
      "3  foo  train  3  1.0 2018-03-03  1.0\n",
      "     A          B    C  D      E    F\n",
      "0  1.0 2018-03-03  1.0  3   test  foo\n",
      "2  1.0 2018-03-03  1.0  3   test  foo\n",
      "1  1.0 2018-03-03  1.0  3  train  foo\n",
      "3  1.0 2018-03-03  1.0  3  train  foo\n"
     ]
    }
   ],
   "source": [
    "print(df2.dtypes,'\\n')\n",
    "print(df2.index,'\\n')\n",
    "print(df2.columns,'\\n')\n",
    "print(df2.values,'\\n')\n",
    "print(df2.describe(),'\\n')\n",
    "print(df2.T,'\\n')\n",
    "print(df2.sort_index(axis=1,ascending=False))\n",
    "print(df2.sort_values(by='E'))\n"
   ]
  },
  {
   "cell_type": "markdown",
   "metadata": {},
   "source": [
    "### pandas选择数据："
   ]
  },
  {
   "cell_type": "code",
   "execution_count": 15,
   "metadata": {},
   "outputs": [
    {
     "data": {
      "text/html": [
       "<div>\n",
       "<style scoped>\n",
       "    .dataframe tbody tr th:only-of-type {\n",
       "        vertical-align: middle;\n",
       "    }\n",
       "\n",
       "    .dataframe tbody tr th {\n",
       "        vertical-align: top;\n",
       "    }\n",
       "\n",
       "    .dataframe thead th {\n",
       "        text-align: right;\n",
       "    }\n",
       "</style>\n",
       "<table border=\"1\" class=\"dataframe\">\n",
       "  <thead>\n",
       "    <tr style=\"text-align: right;\">\n",
       "      <th></th>\n",
       "      <th>A</th>\n",
       "      <th>B</th>\n",
       "      <th>C</th>\n",
       "      <th>D</th>\n",
       "    </tr>\n",
       "  </thead>\n",
       "  <tbody>\n",
       "    <tr>\n",
       "      <th>2018-03-03</th>\n",
       "      <td>0</td>\n",
       "      <td>1</td>\n",
       "      <td>2</td>\n",
       "      <td>3</td>\n",
       "    </tr>\n",
       "    <tr>\n",
       "      <th>2018-03-04</th>\n",
       "      <td>4</td>\n",
       "      <td>5</td>\n",
       "      <td>6</td>\n",
       "      <td>7</td>\n",
       "    </tr>\n",
       "    <tr>\n",
       "      <th>2018-03-05</th>\n",
       "      <td>8</td>\n",
       "      <td>9</td>\n",
       "      <td>10</td>\n",
       "      <td>11</td>\n",
       "    </tr>\n",
       "    <tr>\n",
       "      <th>2018-03-06</th>\n",
       "      <td>12</td>\n",
       "      <td>13</td>\n",
       "      <td>14</td>\n",
       "      <td>15</td>\n",
       "    </tr>\n",
       "    <tr>\n",
       "      <th>2018-03-07</th>\n",
       "      <td>16</td>\n",
       "      <td>17</td>\n",
       "      <td>18</td>\n",
       "      <td>19</td>\n",
       "    </tr>\n",
       "    <tr>\n",
       "      <th>2018-03-08</th>\n",
       "      <td>20</td>\n",
       "      <td>21</td>\n",
       "      <td>22</td>\n",
       "      <td>23</td>\n",
       "    </tr>\n",
       "  </tbody>\n",
       "</table>\n",
       "</div>"
      ],
      "text/plain": [
       "             A   B   C   D\n",
       "2018-03-03   0   1   2   3\n",
       "2018-03-04   4   5   6   7\n",
       "2018-03-05   8   9  10  11\n",
       "2018-03-06  12  13  14  15\n",
       "2018-03-07  16  17  18  19\n",
       "2018-03-08  20  21  22  23"
      ]
     },
     "execution_count": 15,
     "metadata": {},
     "output_type": "execute_result"
    }
   ],
   "source": [
    "dates=pd.date_range('20180303',periods=6)\n",
    "df=pd.DataFrame(np.arange(24).reshape((6,4)),index=dates,columns=['A','B','C','D'])\n",
    "df"
   ]
  },
  {
   "cell_type": "code",
   "execution_count": 119,
   "metadata": {},
   "outputs": [
    {
     "name": "stdout",
     "output_type": "stream",
     "text": [
      "2018-03-03     0\n",
      "2018-03-04     4\n",
      "2018-03-05     8\n",
      "2018-03-06    12\n",
      "2018-03-07    16\n",
      "2018-03-08    20\n",
      "Freq: D, Name: A, dtype: int64 \n",
      "\n",
      "2018-03-03     0\n",
      "2018-03-04     4\n",
      "2018-03-05     8\n",
      "2018-03-06    12\n",
      "2018-03-07    16\n",
      "2018-03-08    20\n",
      "Freq: D, Name: A, dtype: int64 \n",
      "\n",
      "            A  B   C   D\n",
      "2018-03-03  0  1   2   3\n",
      "2018-03-04  4  5   6   7\n",
      "2018-03-05  8  9  10  11 \n",
      "\n",
      "             A   B   C   D\n",
      "2018-03-04   4   5   6   7\n",
      "2018-03-05   8   9  10  11\n",
      "2018-03-06  12  13  14  15\n",
      "2018-03-07  16  17  18  19\n"
     ]
    }
   ],
   "source": [
    "print(df['A'],'\\n')\n",
    "print(df.A,'\\n')\n",
    "print(df[0:3],'\\n')\n",
    "print(df['2018-03-04':'2018-03-7'])"
   ]
  },
  {
   "cell_type": "code",
   "execution_count": 115,
   "metadata": {},
   "outputs": [
    {
     "name": "stdout",
     "output_type": "stream",
     "text": [
      "A    0\n",
      "B    1\n",
      "C    2\n",
      "D    3\n",
      "Name: 2018-03-03 00:00:00, dtype: int64 \n",
      "\n",
      "A    0\n",
      "B    1\n",
      "Name: 2018-03-03 00:00:00, dtype: int64\n"
     ]
    }
   ],
   "source": [
    "#select by label:loc(标签)\n",
    "print(df.loc['20180303'],'\\n')\n",
    "print(df.loc['20180303',['A','B']]  )"
   ]
  },
  {
   "cell_type": "code",
   "execution_count": 70,
   "metadata": {},
   "outputs": [
    {
     "name": "stdout",
     "output_type": "stream",
     "text": [
      "             B   C\n",
      "2018-03-06  13  14\n",
      "2018-03-07  17  18\n"
     ]
    }
   ],
   "source": [
    "#select by position:iloc(数字)\n",
    "print(df.iloc[3:5,1:3])"
   ]
  },
  {
   "cell_type": "code",
   "execution_count": 113,
   "metadata": {},
   "outputs": [
    {
     "name": "stdout",
     "output_type": "stream",
     "text": [
      "            A   C\n",
      "2018-03-03  0   2\n",
      "2018-03-04  4   6\n",
      "2018-03-05  8  10\n",
      "            A   C\n",
      "2018-03-03  0   2\n",
      "2018-03-04  4   6\n",
      "2018-03-05  8  10\n",
      "            A   C\n",
      "2018-03-03  0   2\n",
      "2018-03-04  4   6\n",
      "2018-03-05  8  10\n"
     ]
    }
   ],
   "source": [
    "#mixed selection:ix\n",
    "print(df.ix[:3,['A','C']])\n",
    "print(df.ix['20180303':'20180305',['A','C']])\n",
    "print(df.ix['20180303':'20180305',[0,2]])"
   ]
  },
  {
   "cell_type": "markdown",
   "metadata": {},
   "source": [
    "* 竖的标签只能单行或df['2018-03-04':'2018-03-7']\n",
    "* 横的标签智能['A','B']，不能['A':'C']"
   ]
  },
  {
   "cell_type": "code",
   "execution_count": 122,
   "metadata": {},
   "outputs": [
    {
     "name": "stdout",
     "output_type": "stream",
     "text": [
      "             A   B   C   D\n",
      "2018-03-03   0   1   2   3\n",
      "2018-03-04   4   5   6   7\n",
      "2018-03-05   8   9  10  11\n",
      "2018-03-06  12  13  14  15\n",
      "2018-03-07  16  17  18  19\n",
      "2018-03-08  20  21  22  23\n",
      "             A   B   C   D\n",
      "2018-03-06  12  13  14  15\n",
      "2018-03-07  16  17  18  19\n",
      "2018-03-08  20  21  22  23\n"
     ]
    }
   ],
   "source": [
    "#Boolean indexing\n",
    "print(df)\n",
    "print(df[df.A>8])"
   ]
  },
  {
   "cell_type": "markdown",
   "metadata": {},
   "source": [
    "### pandas 设置值："
   ]
  },
  {
   "cell_type": "code",
   "execution_count": 177,
   "metadata": {},
   "outputs": [
    {
     "data": {
      "text/html": [
       "<div>\n",
       "<style scoped>\n",
       "    .dataframe tbody tr th:only-of-type {\n",
       "        vertical-align: middle;\n",
       "    }\n",
       "\n",
       "    .dataframe tbody tr th {\n",
       "        vertical-align: top;\n",
       "    }\n",
       "\n",
       "    .dataframe thead th {\n",
       "        text-align: right;\n",
       "    }\n",
       "</style>\n",
       "<table border=\"1\" class=\"dataframe\">\n",
       "  <thead>\n",
       "    <tr style=\"text-align: right;\">\n",
       "      <th></th>\n",
       "      <th>A</th>\n",
       "      <th>B</th>\n",
       "      <th>C</th>\n",
       "      <th>D</th>\n",
       "    </tr>\n",
       "  </thead>\n",
       "  <tbody>\n",
       "    <tr>\n",
       "      <th>2018-03-03</th>\n",
       "      <td>0</td>\n",
       "      <td>1</td>\n",
       "      <td>2</td>\n",
       "      <td>3</td>\n",
       "    </tr>\n",
       "    <tr>\n",
       "      <th>2018-03-04</th>\n",
       "      <td>4</td>\n",
       "      <td>5</td>\n",
       "      <td>6</td>\n",
       "      <td>7</td>\n",
       "    </tr>\n",
       "    <tr>\n",
       "      <th>2018-03-05</th>\n",
       "      <td>8</td>\n",
       "      <td>9</td>\n",
       "      <td>10</td>\n",
       "      <td>11</td>\n",
       "    </tr>\n",
       "    <tr>\n",
       "      <th>2018-03-06</th>\n",
       "      <td>12</td>\n",
       "      <td>13</td>\n",
       "      <td>14</td>\n",
       "      <td>15</td>\n",
       "    </tr>\n",
       "    <tr>\n",
       "      <th>2018-03-07</th>\n",
       "      <td>16</td>\n",
       "      <td>17</td>\n",
       "      <td>18</td>\n",
       "      <td>19</td>\n",
       "    </tr>\n",
       "    <tr>\n",
       "      <th>2018-03-08</th>\n",
       "      <td>20</td>\n",
       "      <td>21</td>\n",
       "      <td>22</td>\n",
       "      <td>23</td>\n",
       "    </tr>\n",
       "  </tbody>\n",
       "</table>\n",
       "</div>"
      ],
      "text/plain": [
       "             A   B   C   D\n",
       "2018-03-03   0   1   2   3\n",
       "2018-03-04   4   5   6   7\n",
       "2018-03-05   8   9  10  11\n",
       "2018-03-06  12  13  14  15\n",
       "2018-03-07  16  17  18  19\n",
       "2018-03-08  20  21  22  23"
      ]
     },
     "execution_count": 177,
     "metadata": {},
     "output_type": "execute_result"
    }
   ],
   "source": [
    "dates=pd.date_range('20180303',periods=6)\n",
    "df=pd.DataFrame(np.arange(24).reshape((6,4)),index=dates,columns=['A','B','C','D'])\n",
    "df"
   ]
  },
  {
   "cell_type": "code",
   "execution_count": 178,
   "metadata": {},
   "outputs": [
    {
     "data": {
      "text/html": [
       "<div>\n",
       "<style scoped>\n",
       "    .dataframe tbody tr th:only-of-type {\n",
       "        vertical-align: middle;\n",
       "    }\n",
       "\n",
       "    .dataframe tbody tr th {\n",
       "        vertical-align: top;\n",
       "    }\n",
       "\n",
       "    .dataframe thead th {\n",
       "        text-align: right;\n",
       "    }\n",
       "</style>\n",
       "<table border=\"1\" class=\"dataframe\">\n",
       "  <thead>\n",
       "    <tr style=\"text-align: right;\">\n",
       "      <th></th>\n",
       "      <th>A</th>\n",
       "      <th>B</th>\n",
       "      <th>C</th>\n",
       "      <th>D</th>\n",
       "    </tr>\n",
       "  </thead>\n",
       "  <tbody>\n",
       "    <tr>\n",
       "      <th>2018-03-03</th>\n",
       "      <td>0</td>\n",
       "      <td>1</td>\n",
       "      <td>2</td>\n",
       "      <td>3</td>\n",
       "    </tr>\n",
       "    <tr>\n",
       "      <th>2018-03-04</th>\n",
       "      <td>4</td>\n",
       "      <td>5</td>\n",
       "      <td>6</td>\n",
       "      <td>7</td>\n",
       "    </tr>\n",
       "    <tr>\n",
       "      <th>2018-03-05</th>\n",
       "      <td>8</td>\n",
       "      <td>9</td>\n",
       "      <td>1111</td>\n",
       "      <td>11</td>\n",
       "    </tr>\n",
       "    <tr>\n",
       "      <th>2018-03-06</th>\n",
       "      <td>12</td>\n",
       "      <td>13</td>\n",
       "      <td>14</td>\n",
       "      <td>15</td>\n",
       "    </tr>\n",
       "    <tr>\n",
       "      <th>2018-03-07</th>\n",
       "      <td>16</td>\n",
       "      <td>17</td>\n",
       "      <td>18</td>\n",
       "      <td>19</td>\n",
       "    </tr>\n",
       "    <tr>\n",
       "      <th>2018-03-08</th>\n",
       "      <td>20</td>\n",
       "      <td>21</td>\n",
       "      <td>22</td>\n",
       "      <td>23</td>\n",
       "    </tr>\n",
       "  </tbody>\n",
       "</table>\n",
       "</div>"
      ],
      "text/plain": [
       "             A   B     C   D\n",
       "2018-03-03   0   1     2   3\n",
       "2018-03-04   4   5     6   7\n",
       "2018-03-05   8   9  1111  11\n",
       "2018-03-06  12  13    14  15\n",
       "2018-03-07  16  17    18  19\n",
       "2018-03-08  20  21    22  23"
      ]
     },
     "execution_count": 178,
     "metadata": {},
     "output_type": "execute_result"
    }
   ],
   "source": [
    "df.iloc[2,2]=1111\n",
    "df"
   ]
  },
  {
   "cell_type": "code",
   "execution_count": 179,
   "metadata": {},
   "outputs": [
    {
     "data": {
      "text/html": [
       "<div>\n",
       "<style scoped>\n",
       "    .dataframe tbody tr th:only-of-type {\n",
       "        vertical-align: middle;\n",
       "    }\n",
       "\n",
       "    .dataframe tbody tr th {\n",
       "        vertical-align: top;\n",
       "    }\n",
       "\n",
       "    .dataframe thead th {\n",
       "        text-align: right;\n",
       "    }\n",
       "</style>\n",
       "<table border=\"1\" class=\"dataframe\">\n",
       "  <thead>\n",
       "    <tr style=\"text-align: right;\">\n",
       "      <th></th>\n",
       "      <th>A</th>\n",
       "      <th>B</th>\n",
       "      <th>C</th>\n",
       "      <th>D</th>\n",
       "    </tr>\n",
       "  </thead>\n",
       "  <tbody>\n",
       "    <tr>\n",
       "      <th>2018-03-03</th>\n",
       "      <td>0</td>\n",
       "      <td>1</td>\n",
       "      <td>2</td>\n",
       "      <td>3</td>\n",
       "    </tr>\n",
       "    <tr>\n",
       "      <th>2018-03-04</th>\n",
       "      <td>4</td>\n",
       "      <td>5</td>\n",
       "      <td>6</td>\n",
       "      <td>7</td>\n",
       "    </tr>\n",
       "    <tr>\n",
       "      <th>2018-03-05</th>\n",
       "      <td>8</td>\n",
       "      <td>9</td>\n",
       "      <td>1111</td>\n",
       "      <td>11</td>\n",
       "    </tr>\n",
       "    <tr>\n",
       "      <th>2018-03-06</th>\n",
       "      <td>12</td>\n",
       "      <td>2222</td>\n",
       "      <td>14</td>\n",
       "      <td>15</td>\n",
       "    </tr>\n",
       "    <tr>\n",
       "      <th>2018-03-07</th>\n",
       "      <td>16</td>\n",
       "      <td>17</td>\n",
       "      <td>18</td>\n",
       "      <td>19</td>\n",
       "    </tr>\n",
       "    <tr>\n",
       "      <th>2018-03-08</th>\n",
       "      <td>20</td>\n",
       "      <td>21</td>\n",
       "      <td>22</td>\n",
       "      <td>23</td>\n",
       "    </tr>\n",
       "  </tbody>\n",
       "</table>\n",
       "</div>"
      ],
      "text/plain": [
       "             A     B     C   D\n",
       "2018-03-03   0     1     2   3\n",
       "2018-03-04   4     5     6   7\n",
       "2018-03-05   8     9  1111  11\n",
       "2018-03-06  12  2222    14  15\n",
       "2018-03-07  16    17    18  19\n",
       "2018-03-08  20    21    22  23"
      ]
     },
     "execution_count": 179,
     "metadata": {},
     "output_type": "execute_result"
    }
   ],
   "source": [
    "df.loc['20180306','B']=2222\n",
    "df"
   ]
  },
  {
   "cell_type": "code",
   "execution_count": 180,
   "metadata": {},
   "outputs": [
    {
     "data": {
      "text/html": [
       "<div>\n",
       "<style scoped>\n",
       "    .dataframe tbody tr th:only-of-type {\n",
       "        vertical-align: middle;\n",
       "    }\n",
       "\n",
       "    .dataframe tbody tr th {\n",
       "        vertical-align: top;\n",
       "    }\n",
       "\n",
       "    .dataframe thead th {\n",
       "        text-align: right;\n",
       "    }\n",
       "</style>\n",
       "<table border=\"1\" class=\"dataframe\">\n",
       "  <thead>\n",
       "    <tr style=\"text-align: right;\">\n",
       "      <th></th>\n",
       "      <th>A</th>\n",
       "      <th>B</th>\n",
       "      <th>C</th>\n",
       "      <th>D</th>\n",
       "    </tr>\n",
       "  </thead>\n",
       "  <tbody>\n",
       "    <tr>\n",
       "      <th>2018-03-03</th>\n",
       "      <td>0</td>\n",
       "      <td>1</td>\n",
       "      <td>2</td>\n",
       "      <td>3</td>\n",
       "    </tr>\n",
       "    <tr>\n",
       "      <th>2018-03-04</th>\n",
       "      <td>4</td>\n",
       "      <td>5</td>\n",
       "      <td>6</td>\n",
       "      <td>7</td>\n",
       "    </tr>\n",
       "    <tr>\n",
       "      <th>2018-03-05</th>\n",
       "      <td>0</td>\n",
       "      <td>9</td>\n",
       "      <td>1111</td>\n",
       "      <td>11</td>\n",
       "    </tr>\n",
       "    <tr>\n",
       "      <th>2018-03-06</th>\n",
       "      <td>0</td>\n",
       "      <td>2222</td>\n",
       "      <td>14</td>\n",
       "      <td>15</td>\n",
       "    </tr>\n",
       "    <tr>\n",
       "      <th>2018-03-07</th>\n",
       "      <td>0</td>\n",
       "      <td>17</td>\n",
       "      <td>18</td>\n",
       "      <td>19</td>\n",
       "    </tr>\n",
       "    <tr>\n",
       "      <th>2018-03-08</th>\n",
       "      <td>0</td>\n",
       "      <td>21</td>\n",
       "      <td>22</td>\n",
       "      <td>23</td>\n",
       "    </tr>\n",
       "  </tbody>\n",
       "</table>\n",
       "</div>"
      ],
      "text/plain": [
       "            A     B     C   D\n",
       "2018-03-03  0     1     2   3\n",
       "2018-03-04  4     5     6   7\n",
       "2018-03-05  0     9  1111  11\n",
       "2018-03-06  0  2222    14  15\n",
       "2018-03-07  0    17    18  19\n",
       "2018-03-08  0    21    22  23"
      ]
     },
     "execution_count": 180,
     "metadata": {},
     "output_type": "execute_result"
    }
   ],
   "source": [
    "df.A[df.A>4]=0\n",
    "df"
   ]
  },
  {
   "cell_type": "code",
   "execution_count": 188,
   "metadata": {},
   "outputs": [
    {
     "data": {
      "text/html": [
       "<div>\n",
       "<style scoped>\n",
       "    .dataframe tbody tr th:only-of-type {\n",
       "        vertical-align: middle;\n",
       "    }\n",
       "\n",
       "    .dataframe tbody tr th {\n",
       "        vertical-align: top;\n",
       "    }\n",
       "\n",
       "    .dataframe thead th {\n",
       "        text-align: right;\n",
       "    }\n",
       "</style>\n",
       "<table border=\"1\" class=\"dataframe\">\n",
       "  <thead>\n",
       "    <tr style=\"text-align: right;\">\n",
       "      <th></th>\n",
       "      <th>A</th>\n",
       "      <th>B</th>\n",
       "      <th>C</th>\n",
       "      <th>D</th>\n",
       "    </tr>\n",
       "  </thead>\n",
       "  <tbody>\n",
       "    <tr>\n",
       "      <th>2018-03-03</th>\n",
       "      <td>0</td>\n",
       "      <td>1</td>\n",
       "      <td>2</td>\n",
       "      <td>3</td>\n",
       "    </tr>\n",
       "    <tr>\n",
       "      <th>2018-03-04</th>\n",
       "      <td>4</td>\n",
       "      <td>5</td>\n",
       "      <td>6</td>\n",
       "      <td>7</td>\n",
       "    </tr>\n",
       "    <tr>\n",
       "      <th>2018-03-05</th>\n",
       "      <td>0</td>\n",
       "      <td>0</td>\n",
       "      <td>0</td>\n",
       "      <td>0</td>\n",
       "    </tr>\n",
       "    <tr>\n",
       "      <th>2018-03-06</th>\n",
       "      <td>0</td>\n",
       "      <td>0</td>\n",
       "      <td>0</td>\n",
       "      <td>0</td>\n",
       "    </tr>\n",
       "    <tr>\n",
       "      <th>2018-03-07</th>\n",
       "      <td>0</td>\n",
       "      <td>0</td>\n",
       "      <td>0</td>\n",
       "      <td>0</td>\n",
       "    </tr>\n",
       "    <tr>\n",
       "      <th>2018-03-08</th>\n",
       "      <td>0</td>\n",
       "      <td>0</td>\n",
       "      <td>0</td>\n",
       "      <td>0</td>\n",
       "    </tr>\n",
       "  </tbody>\n",
       "</table>\n",
       "</div>"
      ],
      "text/plain": [
       "            A  B  C  D\n",
       "2018-03-03  0  1  2  3\n",
       "2018-03-04  4  5  6  7\n",
       "2018-03-05  0  0  0  0\n",
       "2018-03-06  0  0  0  0\n",
       "2018-03-07  0  0  0  0\n",
       "2018-03-08  0  0  0  0"
      ]
     },
     "execution_count": 188,
     "metadata": {},
     "output_type": "execute_result"
    }
   ],
   "source": [
    "df=pd.DataFrame(np.arange(24).reshape((6,4)),index=dates,columns=['A','B','C','D'])\n",
    "df[df.A>4]=0\n",
    "df"
   ]
  },
  {
   "cell_type": "code",
   "execution_count": 191,
   "metadata": {},
   "outputs": [
    {
     "name": "stdout",
     "output_type": "stream",
     "text": [
      "            A  B  C  D   F  E\n",
      "2018-03-03  0  1  2  3 NaN  1\n",
      "2018-03-04  4  5  6  7 NaN  2\n",
      "2018-03-05  0  0  0  0 NaN  3\n",
      "2018-03-06  0  0  0  0 NaN  4\n",
      "2018-03-07  0  0  0  0 NaN  5\n",
      "2018-03-08  0  0  0  0 NaN  6\n"
     ]
    }
   ],
   "source": [
    "df['F']=np.nan\n",
    "print(df)\n",
    "df['E']=pd.Series([1,2,3,4,5,6],index=dates)"
   ]
  },
  {
   "cell_type": "markdown",
   "metadata": {},
   "source": [
    "### pandas处理丢失数据："
   ]
  },
  {
   "cell_type": "code",
   "execution_count": 194,
   "metadata": {},
   "outputs": [
    {
     "data": {
      "text/html": [
       "<div>\n",
       "<style scoped>\n",
       "    .dataframe tbody tr th:only-of-type {\n",
       "        vertical-align: middle;\n",
       "    }\n",
       "\n",
       "    .dataframe tbody tr th {\n",
       "        vertical-align: top;\n",
       "    }\n",
       "\n",
       "    .dataframe thead th {\n",
       "        text-align: right;\n",
       "    }\n",
       "</style>\n",
       "<table border=\"1\" class=\"dataframe\">\n",
       "  <thead>\n",
       "    <tr style=\"text-align: right;\">\n",
       "      <th></th>\n",
       "      <th>A</th>\n",
       "      <th>B</th>\n",
       "      <th>C</th>\n",
       "      <th>D</th>\n",
       "    </tr>\n",
       "  </thead>\n",
       "  <tbody>\n",
       "    <tr>\n",
       "      <th>2018-03-03</th>\n",
       "      <td>0</td>\n",
       "      <td>1</td>\n",
       "      <td>2</td>\n",
       "      <td>3</td>\n",
       "    </tr>\n",
       "    <tr>\n",
       "      <th>2018-03-04</th>\n",
       "      <td>4</td>\n",
       "      <td>5</td>\n",
       "      <td>6</td>\n",
       "      <td>7</td>\n",
       "    </tr>\n",
       "    <tr>\n",
       "      <th>2018-03-05</th>\n",
       "      <td>8</td>\n",
       "      <td>9</td>\n",
       "      <td>10</td>\n",
       "      <td>11</td>\n",
       "    </tr>\n",
       "    <tr>\n",
       "      <th>2018-03-06</th>\n",
       "      <td>12</td>\n",
       "      <td>13</td>\n",
       "      <td>14</td>\n",
       "      <td>15</td>\n",
       "    </tr>\n",
       "    <tr>\n",
       "      <th>2018-03-07</th>\n",
       "      <td>16</td>\n",
       "      <td>17</td>\n",
       "      <td>18</td>\n",
       "      <td>19</td>\n",
       "    </tr>\n",
       "    <tr>\n",
       "      <th>2018-03-08</th>\n",
       "      <td>20</td>\n",
       "      <td>21</td>\n",
       "      <td>22</td>\n",
       "      <td>23</td>\n",
       "    </tr>\n",
       "  </tbody>\n",
       "</table>\n",
       "</div>"
      ],
      "text/plain": [
       "             A   B   C   D\n",
       "2018-03-03   0   1   2   3\n",
       "2018-03-04   4   5   6   7\n",
       "2018-03-05   8   9  10  11\n",
       "2018-03-06  12  13  14  15\n",
       "2018-03-07  16  17  18  19\n",
       "2018-03-08  20  21  22  23"
      ]
     },
     "execution_count": 194,
     "metadata": {},
     "output_type": "execute_result"
    }
   ],
   "source": [
    "df=pd.DataFrame(np.arange(24).reshape((6,4)),index=dates,columns=['A','B','C','D'])\n",
    "df"
   ]
  },
  {
   "cell_type": "code",
   "execution_count": 197,
   "metadata": {},
   "outputs": [
    {
     "data": {
      "text/html": [
       "<div>\n",
       "<style scoped>\n",
       "    .dataframe tbody tr th:only-of-type {\n",
       "        vertical-align: middle;\n",
       "    }\n",
       "\n",
       "    .dataframe tbody tr th {\n",
       "        vertical-align: top;\n",
       "    }\n",
       "\n",
       "    .dataframe thead th {\n",
       "        text-align: right;\n",
       "    }\n",
       "</style>\n",
       "<table border=\"1\" class=\"dataframe\">\n",
       "  <thead>\n",
       "    <tr style=\"text-align: right;\">\n",
       "      <th></th>\n",
       "      <th>A</th>\n",
       "      <th>B</th>\n",
       "      <th>C</th>\n",
       "      <th>D</th>\n",
       "    </tr>\n",
       "  </thead>\n",
       "  <tbody>\n",
       "    <tr>\n",
       "      <th>2018-03-03</th>\n",
       "      <td>0</td>\n",
       "      <td>NaN</td>\n",
       "      <td>2.0</td>\n",
       "      <td>3</td>\n",
       "    </tr>\n",
       "    <tr>\n",
       "      <th>2018-03-04</th>\n",
       "      <td>4</td>\n",
       "      <td>5.0</td>\n",
       "      <td>NaN</td>\n",
       "      <td>7</td>\n",
       "    </tr>\n",
       "    <tr>\n",
       "      <th>2018-03-05</th>\n",
       "      <td>8</td>\n",
       "      <td>9.0</td>\n",
       "      <td>10.0</td>\n",
       "      <td>11</td>\n",
       "    </tr>\n",
       "    <tr>\n",
       "      <th>2018-03-06</th>\n",
       "      <td>12</td>\n",
       "      <td>13.0</td>\n",
       "      <td>14.0</td>\n",
       "      <td>15</td>\n",
       "    </tr>\n",
       "    <tr>\n",
       "      <th>2018-03-07</th>\n",
       "      <td>16</td>\n",
       "      <td>17.0</td>\n",
       "      <td>18.0</td>\n",
       "      <td>19</td>\n",
       "    </tr>\n",
       "    <tr>\n",
       "      <th>2018-03-08</th>\n",
       "      <td>20</td>\n",
       "      <td>21.0</td>\n",
       "      <td>22.0</td>\n",
       "      <td>23</td>\n",
       "    </tr>\n",
       "  </tbody>\n",
       "</table>\n",
       "</div>"
      ],
      "text/plain": [
       "             A     B     C   D\n",
       "2018-03-03   0   NaN   2.0   3\n",
       "2018-03-04   4   5.0   NaN   7\n",
       "2018-03-05   8   9.0  10.0  11\n",
       "2018-03-06  12  13.0  14.0  15\n",
       "2018-03-07  16  17.0  18.0  19\n",
       "2018-03-08  20  21.0  22.0  23"
      ]
     },
     "execution_count": 197,
     "metadata": {},
     "output_type": "execute_result"
    }
   ],
   "source": [
    "df.iloc[0,1]=np.nan\n",
    "df.iloc[1,2]=np.nan\n",
    "df"
   ]
  },
  {
   "cell_type": "code",
   "execution_count": 207,
   "metadata": {},
   "outputs": [
    {
     "name": "stdout",
     "output_type": "stream",
     "text": [
      "             A     B     C   D\n",
      "2018-03-05   8   9.0  10.0  11\n",
      "2018-03-06  12  13.0  14.0  15\n",
      "2018-03-07  16  17.0  18.0  19\n",
      "2018-03-08  20  21.0  22.0  23\n",
      "             A     B     C   D\n",
      "2018-03-03   0   NaN   2.0   3\n",
      "2018-03-04   4   5.0   NaN   7\n",
      "2018-03-05   8   9.0  10.0  11\n",
      "2018-03-06  12  13.0  14.0  15\n",
      "2018-03-07  16  17.0  18.0  19\n",
      "2018-03-08  20  21.0  22.0  23\n",
      "             A     B     C   D\n",
      "2018-03-03   0   0.0   2.0   3\n",
      "2018-03-04   4   5.0   0.0   7\n",
      "2018-03-05   8   9.0  10.0  11\n",
      "2018-03-06  12  13.0  14.0  15\n",
      "2018-03-07  16  17.0  18.0  19\n",
      "2018-03-08  20  21.0  22.0  23\n",
      "                A      B      C      D\n",
      "2018-03-03  False   True  False  False\n",
      "2018-03-04  False  False   True  False\n",
      "2018-03-05  False  False  False  False\n",
      "2018-03-06  False  False  False  False\n",
      "2018-03-07  False  False  False  False\n",
      "2018-03-08  False  False  False  False\n",
      "True\n"
     ]
    }
   ],
   "source": [
    "print(df.dropna(axis=0,how='any'))#how={'any','all'}，默认any\n",
    "print(df.dropna(axis=1,how='all'))\n",
    "print(df.fillna(value=0))\n",
    "print(df.isnull())\n",
    "print(np.any(df.isnull())==True)\n"
   ]
  },
  {
   "cell_type": "markdown",
   "metadata": {},
   "source": [
    "### pandas导入导出："
   ]
  },
  {
   "cell_type": "code",
   "execution_count": 2,
   "metadata": {},
   "outputs": [
    {
     "name": "stdout",
     "output_type": "stream",
     "text": [
      "    Student ID   name  age  grender\n",
      "0         1100      A    21  Female\n",
      "1         1101      B    22    Male\n",
      "2         1102      C    12  Female\n",
      "3         1103     ZL    32    Male\n",
      "4         1104    ZYJ    16  Female\n",
      "5         1105     JL    18  Female\n",
      "6         1106    DOG    16  Female\n",
      "7         1107    CAT    24  Female\n",
      "8         1108      D    25    Male\n",
      "9         1109      E    26    Male\n",
      "10        1110      F    26    Male\n",
      "11        1111      G    19  Female\n",
      "12        1112      H    17    Male\n",
      "13        1113      I    21    Male\n",
      "14        1114  KEELY    12  Female\n"
     ]
    }
   ],
   "source": [
    "data=pd.read_csv('Student.csv')\n",
    "print(data)\n",
    "data.to_pickle('student.pickle')"
   ]
  },
  {
   "cell_type": "markdown",
   "metadata": {},
   "source": [
    "### pandas合并concat:"
   ]
  },
  {
   "cell_type": "code",
   "execution_count": 12,
   "metadata": {},
   "outputs": [
    {
     "name": "stdout",
     "output_type": "stream",
     "text": [
      "     a    b    c    d\n",
      "0  0.0  0.0  0.0  0.0\n",
      "1  0.0  0.0  0.0  0.0\n",
      "2  0.0  0.0  0.0  0.0\n",
      "     a    b    c    d\n",
      "0  1.0  1.0  1.0  1.0\n",
      "1  1.0  1.0  1.0  1.0\n",
      "2  1.0  1.0  1.0  1.0\n",
      "     a    b    c    d\n",
      "0  2.0  2.0  2.0  2.0\n",
      "1  2.0  2.0  2.0  2.0\n",
      "2  2.0  2.0  2.0  2.0\n",
      "     a    b    c    d\n",
      "0  0.0  0.0  0.0  0.0\n",
      "1  0.0  0.0  0.0  0.0\n",
      "2  0.0  0.0  0.0  0.0\n",
      "0  1.0  1.0  1.0  1.0\n",
      "1  1.0  1.0  1.0  1.0\n",
      "2  1.0  1.0  1.0  1.0\n",
      "0  2.0  2.0  2.0  2.0\n",
      "1  2.0  2.0  2.0  2.0\n",
      "2  2.0  2.0  2.0  2.0\n",
      "     a    b    c    d\n",
      "0  0.0  0.0  0.0  0.0\n",
      "1  0.0  0.0  0.0  0.0\n",
      "2  0.0  0.0  0.0  0.0\n",
      "3  1.0  1.0  1.0  1.0\n",
      "4  1.0  1.0  1.0  1.0\n",
      "5  1.0  1.0  1.0  1.0\n",
      "6  2.0  2.0  2.0  2.0\n",
      "7  2.0  2.0  2.0  2.0\n",
      "8  2.0  2.0  2.0  2.0\n"
     ]
    }
   ],
   "source": [
    "df1=pd.DataFrame(np.ones((3,4))*0,columns=['a','b','c','d'])\n",
    "df2=pd.DataFrame(np.ones((3,4))*1,columns=['a','b','c','d'])\n",
    "df3=pd.DataFrame(np.ones((3,4))*2,columns=['a','b','c','d'])\n",
    "print(df1)\n",
    "print(df2)\n",
    "print(df3)\n",
    "res=pd.concat([df1,df2,df3],axis=0)\n",
    "print(res)\n",
    "res=pd.concat([df1,df2,df3],axis=0,ignore_index=True)\n",
    "print(res)"
   ]
  },
  {
   "cell_type": "code",
   "execution_count": 26,
   "metadata": {},
   "outputs": [
    {
     "name": "stdout",
     "output_type": "stream",
     "text": [
      "     a    b    c    d\n",
      "1  0.0  0.0  0.0  0.0\n",
      "2  0.0  0.0  0.0  0.0\n",
      "3  0.0  0.0  0.0  0.0\n",
      "     b    c    d    e\n",
      "2  1.0  1.0  1.0  1.0\n",
      "3  1.0  1.0  1.0  1.0\n",
      "4  1.0  1.0  1.0  1.0\n",
      "     a    b    c    d    e\n",
      "1  0.0  0.0  0.0  0.0  NaN\n",
      "2  0.0  0.0  0.0  0.0  NaN\n",
      "3  0.0  0.0  0.0  0.0  NaN\n",
      "2  NaN  1.0  1.0  1.0  1.0\n",
      "3  NaN  1.0  1.0  1.0  1.0\n",
      "4  NaN  1.0  1.0  1.0  1.0\n",
      "     b    c    d\n",
      "1  0.0  0.0  0.0\n",
      "2  0.0  0.0  0.0\n",
      "3  0.0  0.0  0.0\n",
      "2  1.0  1.0  1.0\n",
      "3  1.0  1.0  1.0\n",
      "4  1.0  1.0  1.0\n",
      "     b    c    d\n",
      "0  0.0  0.0  0.0\n",
      "1  0.0  0.0  0.0\n",
      "2  0.0  0.0  0.0\n",
      "3  1.0  1.0  1.0\n",
      "4  1.0  1.0  1.0\n",
      "5  1.0  1.0  1.0\n"
     ]
    }
   ],
   "source": [
    "#join,['inner','outer']\n",
    "df1=pd.DataFrame(np.ones((3,4))*0,columns=['a','b','c','d'],index=[1,2,3])\n",
    "df2=pd.DataFrame(np.ones((3,4))*1,columns=['b','c','d','e'],index=[2,3,4])\n",
    "print(df1)\n",
    "print(df2)\n",
    "res=pd.concat([df1,df2],join='outer')#默认outer\n",
    "print(res)\n",
    "res1=pd.concat([df1,df2],join='inner')\n",
    "print(res1)\n",
    "res2=pd.concat([df1,df2],join='inner',ignore_index=True)\n",
    "print(res2)"
   ]
  },
  {
   "cell_type": "code",
   "execution_count": 30,
   "metadata": {},
   "outputs": [
    {
     "name": "stdout",
     "output_type": "stream",
     "text": [
      "     a    b    c    d    b    c    d    e\n",
      "1  0.0  0.0  0.0  0.0  NaN  NaN  NaN  NaN\n",
      "2  0.0  0.0  0.0  0.0  1.0  1.0  1.0  1.0\n",
      "3  0.0  0.0  0.0  0.0  1.0  1.0  1.0  1.0\n",
      "     a    b    c    d    b    c    d    e\n",
      "1  0.0  0.0  0.0  0.0  NaN  NaN  NaN  NaN\n",
      "2  0.0  0.0  0.0  0.0  1.0  1.0  1.0  1.0\n",
      "3  0.0  0.0  0.0  0.0  1.0  1.0  1.0  1.0\n",
      "4  NaN  NaN  NaN  NaN  1.0  1.0  1.0  1.0\n"
     ]
    }
   ],
   "source": [
    "res3=pd.concat([df1,df2],axis=1,join_axes=[df1.index])\n",
    "print(res3)\n",
    "res4=pd.concat([df1,df2],axis=1)\n",
    "print(res4)"
   ]
  },
  {
   "cell_type": "code",
   "execution_count": 35,
   "metadata": {},
   "outputs": [
    {
     "name": "stdout",
     "output_type": "stream",
     "text": [
      "     a    b    c    d\n",
      "0  0.0  0.0  0.0  0.0\n",
      "1  0.0  0.0  0.0  0.0\n",
      "2  0.0  0.0  0.0  0.0\n",
      "3  1.0  1.0  1.0  1.0\n",
      "4  1.0  1.0  1.0  1.0\n",
      "5  1.0  1.0  1.0  1.0\n",
      "     a    b    c    d    e\n",
      "0  0.0  0.0  0.0  0.0  NaN\n",
      "1  0.0  0.0  0.0  0.0  NaN\n",
      "2  0.0  0.0  0.0  0.0  NaN\n",
      "3  1.0  1.0  1.0  1.0  NaN\n",
      "4  1.0  1.0  1.0  1.0  NaN\n",
      "5  1.0  1.0  1.0  1.0  NaN\n",
      "6  NaN  2.0  2.0  2.0  2.0\n",
      "7  NaN  2.0  2.0  2.0  2.0\n",
      "8  NaN  2.0  2.0  2.0  2.0\n",
      "     a    b    c    d\n",
      "0  0.0  0.0  0.0  0.0\n",
      "1  0.0  0.0  0.0  0.0\n",
      "2  0.0  0.0  0.0  0.0\n",
      "3  1.0  2.0  3.0  4.0\n"
     ]
    }
   ],
   "source": [
    "df1=pd.DataFrame(np.ones((3,4))*0,columns=['a','b','c','d'])\n",
    "df2=pd.DataFrame(np.ones((3,4))*1,columns=['a','b','c','d'])\n",
    "df3=pd.DataFrame(np.ones((3,4))*2,columns=['b','c','d','e'],index=[2,3,4])\n",
    "res=df1.append(df2,ignore_index=True)\n",
    "print(res)\n",
    "res1=df1.append([df2,df3],ignore_index=True)\n",
    "print(res1)\n",
    "s1=pd.Series([1,2,3,4],index=['a','b','c','d'])\n",
    "res2=df1.append(s1,ignore_index=True)\n",
    "print(res2)"
   ]
  },
  {
   "cell_type": "markdown",
   "metadata": {},
   "source": [
    "### pandas合并merge："
   ]
  },
  {
   "cell_type": "code",
   "execution_count": 39,
   "metadata": {},
   "outputs": [
    {
     "name": "stdout",
     "output_type": "stream",
     "text": [
      "    A   B key\n",
      "0  A0  B0  K0\n",
      "1  A1  B1  K1\n",
      "2  A2  B2  K2\n",
      "3  A3  B3  K3\n",
      "    C   D key\n",
      "0  C0  D0  K0\n",
      "1  C1  D1  K1\n",
      "2  C2  D2  K2\n",
      "3  C3  D3  K3\n",
      "    A   B key   C   D\n",
      "0  A0  B0  K0  C0  D0\n",
      "1  A1  B1  K1  C1  D1\n",
      "2  A2  B2  K2  C2  D2\n",
      "3  A3  B3  K3  C3  D3\n"
     ]
    }
   ],
   "source": [
    "#merging two df by key/keys.(may be used in database)\n",
    "#simple example\n",
    "left=pd.DataFrame({'key':['K0','K1','K2','K3'],\n",
    "                                  'A':['A0','A1','A2','A3'],\n",
    "                                  'B':['B0','B1','B2','B3']})\n",
    "right=pd.DataFrame({'key':['K0','K1','K2','K3'],\n",
    "                                  'C':['C0','C1','C2','C3'],\n",
    "                                  'D':['D0','D1','D2','D3']})\n",
    "print(left)\n",
    "print(right)\n",
    "\n",
    "res=pd.merge(left,right,on='key')\n",
    "print(res)"
   ]
  },
  {
   "cell_type": "code",
   "execution_count": 57,
   "metadata": {},
   "outputs": [
    {
     "name": "stdout",
     "output_type": "stream",
     "text": [
      "    A   B key1 key2\n",
      "0  A0  B0   K0   K0\n",
      "1  A1  B1   K0   K1\n",
      "2  A2  B2   K1   K0\n",
      "3  A3  B3   K2   K1\n",
      "    C   D key1 key2\n",
      "0  C0  D0   K0   K0\n",
      "1  C1  D1   K1   K0\n",
      "2  C2  D2   K1   K0\n",
      "3  C3  D3   K2   K0\n",
      "    A   B key1 key2   C   D\n",
      "0  A0  B0   K0   K0  C0  D0\n",
      "1  A2  B2   K1   K0  C1  D1\n",
      "2  A2  B2   K1   K0  C2  D2 \n",
      "\n",
      "     A    B key1 key2    C    D\n",
      "0   A0   B0   K0   K0   C0   D0\n",
      "1   A1   B1   K0   K1  NaN  NaN\n",
      "2   A2   B2   K1   K0   C1   D1\n",
      "3   A2   B2   K1   K0   C2   D2\n",
      "4   A3   B3   K2   K1  NaN  NaN\n",
      "5  NaN  NaN   K2   K0   C3   D3 \n",
      "\n",
      "     A    B key1 key2   C   D\n",
      "0   A0   B0   K0   K0  C0  D0\n",
      "1   A2   B2   K1   K0  C1  D1\n",
      "2   A2   B2   K1   K0  C2  D2\n",
      "3  NaN  NaN   K2   K0  C3  D3 \n",
      "\n",
      "    A   B key1 key2    C    D\n",
      "0  A0  B0   K0   K0   C0   D0\n",
      "1  A1  B1   K0   K1  NaN  NaN\n",
      "2  A2  B2   K1   K0   C1   D1\n",
      "3  A2  B2   K1   K0   C2   D2\n",
      "4  A3  B3   K2   K1  NaN  NaN \n",
      "\n"
     ]
    }
   ],
   "source": [
    "#merging two df by key/keys.(may be used in database)\n",
    "#consider two keys\n",
    "\n",
    "left=pd.DataFrame({'key1':['K0','K0','K1','K2'],\n",
    "                                  'key2':['K0','K1','K0','K1'],\n",
    "                                  'A':['A0','A1','A2','A3'],\n",
    "                                  'B':['B0','B1','B2','B3']})\n",
    "right=pd.DataFrame({'key1':['K0','K1','K1','K2'],\n",
    "                                  'key2':['K0','K0','K0','K0'],\n",
    "                                  'C':['C0','C1','C2','C3'],\n",
    "                                  'D':['D0','D1','D2','D3']})\n",
    "print(left)\n",
    "print(right)\n",
    "\n",
    "res=pd.merge(left,right,on=['key1','key2'])#默认'inner',有'outter','left','right'\n",
    "print(res,'\\n')\n",
    "res=pd.merge(left,right,on=['key1','key2'],how='outer')\n",
    "print(res,'\\n')\n",
    "res=pd.merge(left,right,on=['key1','key2'],how='right')\n",
    "print(res,'\\n')\n",
    "res=pd.merge(left,right,on=['key1','key2'],how='left')\n",
    "print(res,'\\n')"
   ]
  },
  {
   "cell_type": "code",
   "execution_count": 54,
   "metadata": {},
   "outputs": [
    {
     "name": "stdout",
     "output_type": "stream",
     "text": [
      "   col1 col_left\n",
      "0     0        a\n",
      "1     1        b\n",
      "   col1  col_right\n",
      "0     1          2\n",
      "1     1          2\n",
      "2     2          2\n",
      "\n",
      "   col1 col_left  col_right      _merge\n",
      "0     0        a        NaN   left_only\n",
      "1     1        b        2.0        both\n",
      "2     1        b        2.0        both\n",
      "3     2      NaN        2.0  right_only \n",
      "\n",
      "   col1 col_left  col_right indicator_column\n",
      "0     0        a        NaN        left_only\n",
      "1     1        b        2.0             both\n",
      "2     1        b        2.0             both\n",
      "3     2      NaN        2.0       right_only\n"
     ]
    }
   ],
   "source": [
    "#indicator\n",
    "df1=pd.DataFrame({'col1':[0,1],'col_left':['a','b']})\n",
    "df2=pd.DataFrame({'col1':[1,1,2],'col_right':[2,2,2]})\n",
    "print(df1)\n",
    "print(df2)\n",
    "print()\n",
    "\n",
    "res=pd.merge(df1,df2,on='col1',how='outer',indicator=True)\n",
    "print(res,'\\n')\n",
    "#give the indicator a custom name\n",
    "res=pd.merge(df1,df2,on='col1',how='outer',indicator='indicator_column')\n",
    "print(res)"
   ]
  },
  {
   "cell_type": "code",
   "execution_count": 58,
   "metadata": {},
   "outputs": [
    {
     "name": "stdout",
     "output_type": "stream",
     "text": [
      "     A   B\n",
      "K0  A0  B0\n",
      "K1  A1  B1\n",
      "K2  A2  B2\n",
      "     C   D\n",
      "K0  C0  D0\n",
      "K2  C1  D1\n",
      "K3  C2  D2\n",
      "      A    B    C    D\n",
      "K0   A0   B0   C0   D0\n",
      "K1   A1   B1  NaN  NaN\n",
      "K2   A2   B2   C1   D1\n",
      "K3  NaN  NaN   C2   D2 \n",
      "\n",
      "     A   B   C   D\n",
      "K0  A0  B0  C0  D0\n",
      "K2  A2  B2  C1  D1 \n",
      "\n"
     ]
    }
   ],
   "source": [
    "#merged by index\n",
    "left=pd.DataFrame({ 'A':['A0','A1','A2'],\n",
    "                                  'B':['B0','B1','B2']},\n",
    "                                  index=['K0','K1','K2'])\n",
    "right=pd.DataFrame({'C':['C0','C1','C2'],\n",
    "                                  'D':['D0','D1','D2']},\n",
    "                                    index=['K0','K2','K3'])\n",
    "print(left)\n",
    "print(right)\n",
    "#left index and right index\n",
    "res=pd.merge(left,right,left_index=True,right_index=True,how='outer')\n",
    "print(res,'\\n')\n",
    "res=pd.merge(left,right,left_index=True,right_index=True,how='inner')\n",
    "print(res,'\\n')"
   ]
  },
  {
   "cell_type": "code",
   "execution_count": 65,
   "metadata": {},
   "outputs": [
    {
     "name": "stdout",
     "output_type": "stream",
     "text": [
      "   age   k\n",
      "0    1  K0\n",
      "1    2  K1\n",
      "2    3  K2\n",
      "   age   k\n",
      "0    1  K0\n",
      "1    2  K0\n",
      "2    3  K3\n",
      "   age_boys   k  age_girls\n",
      "0         1  K0          1\n",
      "1         1  K0          2\n"
     ]
    }
   ],
   "source": [
    "#handle overlapping\n",
    "boys=pd.DataFrame({'k':['K0','K1','K2'],'age':[1,2,3]})\n",
    "girls=pd.DataFrame({'k':['K0','K0','K3'],'age':[1,2,3]})\n",
    "\n",
    "print(boys)\n",
    "print(girls)\n",
    "\n",
    "res=pd.merge(boys,girls,on='k',suffixes=['_boys','_girls'],how='inner')\n",
    "print(res)"
   ]
  },
  {
   "cell_type": "markdown",
   "metadata": {},
   "source": [
    "### pandas plot画图:"
   ]
  },
  {
   "cell_type": "code",
   "execution_count": 71,
   "metadata": {},
   "outputs": [
    {
     "name": "stdout",
     "output_type": "stream",
     "text": [
      "0     -0.959442\n",
      "1     -0.222316\n",
      "2     -1.101402\n",
      "3     -0.343054\n",
      "4     -1.143908\n",
      "5     -0.865217\n",
      "6      1.123038\n",
      "7      1.450682\n",
      "8      0.074431\n",
      "9     -3.020257\n",
      "10    -0.086262\n",
      "11     1.812281\n",
      "12    -0.641565\n",
      "13    -0.205208\n",
      "14    -0.119555\n",
      "15     0.634220\n",
      "16     2.048564\n",
      "17     1.125738\n",
      "18     0.148725\n",
      "19     0.811140\n",
      "20     1.598915\n",
      "21     1.864149\n",
      "22     0.216722\n",
      "23     0.232432\n",
      "24    -1.507853\n",
      "25    -0.536817\n",
      "26    -0.542887\n",
      "27    -0.114205\n",
      "28     0.678069\n",
      "29    -1.036662\n",
      "         ...   \n",
      "970   -1.095183\n",
      "971    0.208577\n",
      "972   -2.504025\n",
      "973    0.644188\n",
      "974    1.037801\n",
      "975    1.746983\n",
      "976   -0.598371\n",
      "977    0.231132\n",
      "978   -2.704156\n",
      "979   -1.114159\n",
      "980   -0.576228\n",
      "981    0.937934\n",
      "982   -0.266968\n",
      "983   -0.380652\n",
      "984    0.797207\n",
      "985    0.298930\n",
      "986    0.600689\n",
      "987   -0.232611\n",
      "988   -0.503214\n",
      "989    0.534143\n",
      "990   -1.450833\n",
      "991    0.819123\n",
      "992    1.450055\n",
      "993   -0.931977\n",
      "994   -0.552805\n",
      "995   -1.006700\n",
      "996    0.252290\n",
      "997    1.313196\n",
      "998   -1.536867\n",
      "999   -0.515193\n",
      "Length: 1000, dtype: float64 \n",
      "\n",
      "0      -0.959442\n",
      "1      -1.181758\n",
      "2      -2.283160\n",
      "3      -2.626214\n",
      "4      -3.770122\n",
      "5      -4.635339\n",
      "6      -3.512300\n",
      "7      -2.061619\n",
      "8      -1.987188\n",
      "9      -5.007444\n",
      "10     -5.093706\n",
      "11     -3.281425\n",
      "12     -3.922990\n",
      "13     -4.128198\n",
      "14     -4.247753\n",
      "15     -3.613533\n",
      "16     -1.564969\n",
      "17     -0.439232\n",
      "18     -0.290507\n",
      "19      0.520634\n",
      "20      2.119549\n",
      "21      3.983698\n",
      "22      4.200420\n",
      "23      4.432853\n",
      "24      2.925000\n",
      "25      2.388183\n",
      "26      1.845296\n",
      "27      1.731092\n",
      "28      2.409161\n",
      "29      1.372499\n",
      "         ...    \n",
      "970    -7.685467\n",
      "971    -7.476890\n",
      "972    -9.980915\n",
      "973    -9.336727\n",
      "974    -8.298926\n",
      "975    -6.551943\n",
      "976    -7.150314\n",
      "977    -6.919181\n",
      "978    -9.623337\n",
      "979   -10.737496\n",
      "980   -11.313724\n",
      "981   -10.375790\n",
      "982   -10.642759\n",
      "983   -11.023411\n",
      "984   -10.226204\n",
      "985    -9.927274\n",
      "986    -9.326585\n",
      "987    -9.559196\n",
      "988   -10.062410\n",
      "989    -9.528268\n",
      "990   -10.979101\n",
      "991   -10.159978\n",
      "992    -8.709923\n",
      "993    -9.641900\n",
      "994   -10.194704\n",
      "995   -11.201405\n",
      "996   -10.949114\n",
      "997    -9.635919\n",
      "998   -11.172786\n",
      "999   -11.687979\n",
      "Length: 1000, dtype: float64 \n",
      "\n"
     ]
    },
    {
     "data": {
      "image/png": "[encoded data removed]",
      "text/plain": [
       "<matplotlib.figure.Figure at 0x7f84684e0e10>"
      ]
     },
     "metadata": {},
     "output_type": "display_data"
    }
   ],
   "source": [
    "import matplotlib.pyplot as plt\n",
    "#plot data\n",
    "#Series\n",
    "data=pd.Series(np.random.randn(1000),index=np.arange(1000))\n",
    "print(data,'\\n')\n",
    "data=data.cumsum()\n",
    "print(data,'\\n')\n",
    "data.plot()\n",
    "plt.show()\n"
   ]
  },
  {
   "cell_type": "code",
   "execution_count": 99,
   "metadata": {},
   "outputs": [
    {
     "name": "stdout",
     "output_type": "stream",
     "text": [
      "          A         B         C         D\n",
      "0  1.223875  0.176017 -1.794087  0.387108\n",
      "1  1.295307 -0.418600 -1.664779 -0.991484\n",
      "2  1.940350 -0.147606 -1.479971 -1.291404\n",
      "3  1.147032 -1.084748 -1.604633 -0.343525\n",
      "4  1.636540  0.355520 -2.392171  0.007094\n"
     ]
    },
    {
     "data": {
      "image/png": "[encoded data removed]",
      "text/plain": [
       "<matplotlib.figure.Figure at 0x7f8467b2f860>"
      ]
     },
     "metadata": {},
     "output_type": "display_data"
    },
    {
     "data": {
      "image/png": "[encoded data removed]",
      "text/plain": [
       "<matplotlib.figure.Figure at 0x7f8467afe198>"
      ]
     },
     "metadata": {},
     "output_type": "display_data"
    }
   ],
   "source": [
    "#DataFrame\n",
    "data=pd.DataFrame(np.random.randn(1000,4),index=np.arange(1000),columns=list(\"ABCD\"))\n",
    "data=data.cumsum()\n",
    "print(data.head())\n",
    "data.plot()\n",
    "plt.show()\n",
    "#plot的methods:\n",
    "#'bar(条形图)',‘hist','box','kde','area','scatter,'hexbin','pie'\n",
    "ax=data.plot.scatter(x='A',y='B',color='DarkBlue',label='Class 1')\n",
    "data.plot.scatter(x='A',y='C',color='DarkGreen',label='Class 2',ax=ax)\n",
    "plt.show()"
   ]
  }
 ],
 "metadata": {
  "kernelspec": {
   "display_name": "Python 3",
   "language": "python",
   "name": "python3"
  },
  "language_info": {
   "codemirror_mode": {
    "name": "ipython",
    "version": 3
   },
   "file_extension": ".py",
   "mimetype": "text/x-python",
   "name": "python",
   "nbconvert_exporter": "python",
   "pygments_lexer": "ipython3",
   "version": "3.6.4"
  }
 },
 "nbformat": 4,
 "nbformat_minor": 2
}
